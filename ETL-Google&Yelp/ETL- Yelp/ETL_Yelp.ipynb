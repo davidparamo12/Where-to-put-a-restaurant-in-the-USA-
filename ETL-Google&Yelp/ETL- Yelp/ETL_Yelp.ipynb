{
 "cells": [
  {
   "cell_type": "markdown",
   "id": "e5ca5fe3",
   "metadata": {},
   "source": [
    "1. Leemos el archivo de business de Yelp"
   ]
  },
  {
   "cell_type": "code",
   "execution_count": null,
   "id": "e04af0a4",
   "metadata": {},
   "outputs": [],
   "source": [
    "import pandas as pd\n",
    "import os\n",
    "from unidecode import unidecode\n",
    "#Abrir el archivo de business de Yelp\n",
    "file_path = r\"C:\\Users\\param\\OneDrive\\Escritorio\\Programacion\\Soy Henry\\Proyecto-sentimientos\\DATASET\\Yelp\\business.pkl\"\n",
    "#Creamos el data frame\n",
    "negocios_yelp = pd.read_pickle(file_path)\n",
    "negocios_yelp = negocios_yelp.copy().reset_index(drop=True)\n",
    "#Se eliminan las columnas repetidas\n",
    "negocios_yelp= negocios_yelp.loc[:, ~negocios_yelp.columns.duplicated()]\n",
    "#Cambiamos la columna a texto en minuscula para las busquedas\n",
    "negocios_yelp[\"categories\"] = negocios_yelp[\"categories\"].str.lower()"
   ]
  },
  {
   "cell_type": "markdown",
   "id": "f4d5855c",
   "metadata": {},
   "source": [
    "2. Filtrar por NJ con county- lo realizamos con un segundo método para mostrar diversidad."
   ]
  },
  {
   "cell_type": "code",
   "execution_count": 55,
   "id": "191e0e06",
   "metadata": {},
   "outputs": [
    {
     "name": "stdout",
     "output_type": "stream",
     "text": [
      "Número de negocios dentro del área expandida 10% de NJ es: 21915\n"
     ]
    }
   ],
   "source": [
    "import geopandas as gpd\n",
    "from shapely.geometry import Point\n",
    "\n",
    "# Cargar todos los counties de EE.UU.\n",
    "us_counties = gpd.read_file(\"https://www2.census.gov/geo/tiger/GENZ2022/shp/cb_2022_us_county_500k.zip\")\n",
    "\n",
    "# Filtrar solo los de New Jersey (FIPS State Code = '34')\n",
    "nj_counties = us_counties[us_counties['STATEFP'] == '34'].copy()\n",
    "\n",
    "# Cambiar proyección a una métrica para que el buffer sea en metros (UTM Zone 18N cubre NJ)\n",
    "nj_counties = nj_counties.to_crs(epsg=26918)\n",
    "\n",
    "# Ampliar un 10% el tamaño de los polígonos con buffer\n",
    "nj_counties[\"geometry\"] = nj_counties.geometry.buffer(nj_counties.geometry.area.mean()**0.5 * 0.10)\n",
    "\n",
    "# Regresar a WGS84 para empatar con los puntos (EPSG:4326)\n",
    "nj_counties = nj_counties.to_crs(epsg=4326)\n",
    "\n",
    "# Crear geometrías para restaurantes\n",
    "geometry = [Point(xy) for xy in zip(negocios_yelp[\"longitude\"], negocios_yelp[\"latitude\"])]\n",
    "gdf_restaurantes = gpd.GeoDataFrame(negocios_yelp, geometry=geometry, crs=\"EPSG:4326\")\n",
    "\n",
    "# Cruce espacial con los counties expandidos\n",
    "negocios_con_county = gpd.sjoin(\n",
    "    gdf_restaurantes,\n",
    "    nj_counties[[\"NAME\", \"geometry\"]],\n",
    "    how=\"inner\",\n",
    "    predicate=\"within\"\n",
    ")\n",
    "\n",
    "# Renombrar columna\n",
    "restaurantes_con_county = negocios_con_county.rename(columns={\"NAME\": \"County\"})\n",
    "\n",
    "print(f\"Número de negocios dentro del área expandida 10% de NJ es: {len(restaurantes_con_county)}\")\n"
   ]
  },
  {
   "cell_type": "markdown",
   "id": "b66bda8c",
   "metadata": {},
   "source": [
    "2. Filtramos por restaurantes"
   ]
  },
  {
   "cell_type": "code",
   "execution_count": 57,
   "id": "12bb4176",
   "metadata": {},
   "outputs": [
    {
     "name": "stdout",
     "output_type": "stream",
     "text": [
      "Se encontraron 8436 restaurantes en NJ\n"
     ]
    }
   ],
   "source": [
    "def contains_restaurant_string(cat_string):\n",
    "    if not cat_string or not isinstance(cat_string, str):\n",
    "        return False\n",
    "    return \"restaurant\" in cat_string.lower()\n",
    "\n",
    "\n",
    "\n",
    "yelp_restaurantes = restaurantes_con_county[\n",
    "    restaurantes_con_county[\"categories\"].apply(contains_restaurant_string)\n",
    "]\n",
    "\n",
    "print(f\"Se encontraron {len(yelp_restaurantes)} restaurantes en NJ\")\n"
   ]
  },
  {
   "cell_type": "markdown",
   "id": "61e68634",
   "metadata": {},
   "source": [
    "3. Se genera la categorizacion de los restaurantes"
   ]
  },
  {
   "cell_type": "code",
   "execution_count": 58,
   "id": "67594f95",
   "metadata": {},
   "outputs": [],
   "source": [
    "#Mapeo de la categorización-creamos una columna nueva llamada category group.\n",
    "\n",
    "category_mapping={\n",
    "#FastFood\n",
    "\"hamburger\":\"FastFood\",\n",
    "\"burger\":\"FastFood\",\n",
    "\"hot dog\":\"FastFood\",\n",
    "\"chicken wings\":\"FastFood\",\n",
    "\"sandwich\":\"FastFood\",\n",
    "\"cheese steak\":\"FastFood\",\n",
    "\"fast food\":\"FastFood\",\n",
    "\n",
    "#PizzaandPasta\n",
    "\"pizza\":\"PizzaandPasta\",\n",
    "\"italian\":\"PizzaandPasta\",\n",
    "\n",
    "#AsianCuisine\n",
    "\"chinese\":\"AsianCuisine\",\n",
    "\"japanese\":\"AsianCuisine\",\n",
    "\"sushi\":\"AsianCuisine\",\n",
    "\"ramen\":\"AsianCuisine\",\n",
    "\"thai\":\"AsianCuisine\",\n",
    "\"vietnamese\":\"AsianCuisine\",\n",
    "\"asian\":\"AsianCuisine\",\n",
    "\"korean\":\"AsianCuisine\",\n",
    "\"dimsum\":\"AsianCuisine\",\n",
    "\"noodle\":\"AsianCuisine\",\n",
    "\n",
    "#Latin&Mexican\n",
    "\"mexican\":\"Latin&Mexican\",\n",
    "\"salvadoran\":\"Latin&Mexican\",\n",
    "\"guatemalan\":\"Latin&Mexican\",\n",
    "\"latin\":\"Latin&Mexican\",\n",
    "\"taco\":\"Latin&Mexican\",\n",
    "\"peruvian\":\"Latin&Mexican\",\n",
    "\"caribbean\":\"Latin&Mexican\",\n",
    "\"puerto Rican\":\"Latin&Mexican\",\n",
    "\"tex-mex\":\"Latin&Mexican\",\n",
    "\n",
    "#Healthy&SpecialtyDiets\n",
    "\"vegan\":\"Healthy&SpecialtyDiets\",\n",
    "\"vegetarian\":\"Healthy&SpecialtyDiets\",\n",
    "\"health\":\"Healthy&SpecialtyDiets\",\n",
    "\"gluten-free\":\"Healthy&SpecialtyDiets\",\n",
    "\"kosher\":\"Healthy&SpecialtyDiets\",\n",
    "\"organic\":\"Healthy&SpecialtyDiets\",\n",
    "\"salad\":\"Healthy&SpecialtyDiets\",\n",
    "\n",
    "#Indian&MiddleEastern\n",
    "\"indian\":\"Indian&MiddleEastern\",\n",
    "\"pakistani\":\"Indian&MiddleEastern\",\n",
    "\"middleEastern\":\"Indian&MiddleEastern\",\n",
    "\"mediterranean\":\"Indian&MiddleEastern\",\n",
    "\"shawarma\":\"Indian&MiddleEastern\",\n",
    "\"falafel\":\"Indian&MiddleEastern\",\n",
    "\"halal\":\"Indian&MiddleEastern\",\n",
    "\n",
    "#European&Continental\n",
    "\"spanish\":\"European&Continental\",\n",
    "\"greek\":\"European&Continental\",\n",
    "\"german\":\"European&Continental\",\n",
    "\"irish\":\"European&Continental\",\n",
    "\"polish\":\"European&Continental\",\n",
    "\"portuguese\":\"European&Continental\",\n",
    "\n",
    "#Cafés&Bakeries\n",
    "\"coffee\":\"Cafés&Bakeries\",\n",
    "\"bakery\":\"Cafés&Bakeries\",\n",
    "\"bagel\":\"Cafés&Bakeries\",\n",
    "\"donut\":\"Cafés&Bakeries\",\n",
    "\"dessert\":\"Cafés&Bakeries\",\n",
    "\"cakeshop\":\"Cafés&Bakeries\",\n",
    "\"pretzel\":\"Cafés&Bakeries\",\n",
    "\n",
    "#Bars&Pubs\n",
    "\"bar\":\"Bars&Pubs\",\n",
    "\"pub\":\"Bars&Pubs\",\n",
    "\"winebar\":\"Bars&Pubs\",\n",
    "\"karaoke\":\"Bars&Pubs\",\n",
    "\"sports\":\"Bars&Pubs\",\n",
    "}\n"
   ]
  },
  {
   "cell_type": "code",
   "execution_count": 59,
   "id": "12fe3392",
   "metadata": {},
   "outputs": [
    {
     "name": "stderr",
     "output_type": "stream",
     "text": [
      "c:\\Users\\param\\AppData\\Local\\Programs\\Python\\Python311\\Lib\\site-packages\\geopandas\\geodataframe.py:1968: SettingWithCopyWarning: \n",
      "A value is trying to be set on a copy of a slice from a DataFrame.\n",
      "Try using .loc[row_indexer,col_indexer] = value instead\n",
      "\n",
      "See the caveats in the documentation: https://pandas.pydata.org/pandas-docs/stable/user_guide/indexing.html#returning-a-view-versus-a-copy\n",
      "  super().__setitem__(key, value)\n"
     ]
    }
   ],
   "source": [
    "#Función para aplicar el mapeo\n",
    "def map_category_string(cat_string):\n",
    "    if not isinstance(cat_string, str):\n",
    "        return None\n",
    "\n",
    "    # Convertir a lista de categorías limpias\n",
    "    categories = [cat.strip() for cat in cat_string.split(',')]\n",
    "\n",
    "    # Buscar la primera categoría que aparezca en el diccionario\n",
    "    for cat in categories:\n",
    "        if cat in category_mapping:\n",
    "            return category_mapping[cat]\n",
    "\n",
    "    return \"Other\"  # o None si prefieres no asignar\n",
    "\n",
    "\n",
    "# Aplicar la función para mapear a categoría general\n",
    "yelp_restaurantes[\"category\"] = yelp_restaurantes[\"categories\"].apply(map_category_string)\n",
    "\n",
    "# Crear una copia del DataFrame con la nueva columna\n",
    "yelp_categorias = yelp_restaurantes.copy()\n",
    "\n",
    "# Reiniciar el índice\n",
    "yelp_categorias.reset_index(drop=True, inplace=True)\n"
   ]
  },
  {
   "cell_type": "code",
   "execution_count": 60,
   "id": "b6616b94",
   "metadata": {},
   "outputs": [
    {
     "data": {
      "image/png": "[encoded data removed]",
      "text/plain": [
       "<Figure size 1000x600 with 1 Axes>"
      ]
     },
     "metadata": {},
     "output_type": "display_data"
    }
   ],
   "source": [
    "# Seleccionamos el top 5\n",
    "import matplotlib.pyplot as plt\n",
    "\n",
    "# Conteo de la frecuencia de cada grupo\n",
    "group_counts = yelp_categorias['category'].value_counts().nlargest(10)\n",
    "\n",
    "# Plot\n",
    "plt.figure(figsize=(10, 6))\n",
    "group_counts.plot(kind='bar', color='skyblue')\n",
    "plt.title('Top 10 Restaurant Category Groups')\n",
    "plt.xlabel('Category Group')\n",
    "plt.ylabel('Number of Restaurants')\n",
    "plt.xticks(rotation=45, ha='right')\n",
    "plt.tight_layout()\n",
    "plt.show()"
   ]
  },
  {
   "cell_type": "code",
   "execution_count": 61,
   "id": "137f1162",
   "metadata": {},
   "outputs": [
    {
     "name": "stdout",
     "output_type": "stream",
     "text": [
      "Quedan 4719 restaurantes después de eliminar las categorías no deseadas.\n",
      "category\n",
      "PizzaandPasta             1762\n",
      "AsianCuisine              1125\n",
      "FastFood                   764\n",
      "Healthy&SpecialtyDiets     555\n",
      "Latin&Mexican              513\n",
      "Name: count, dtype: int64\n"
     ]
    }
   ],
   "source": [
    "categorias_a_eliminar = [\n",
    "    \"Other\",\n",
    "    \"European&Continental\",\n",
    "    \"Indian&MiddleEastern\",\n",
    "    \"Bars&Pubs\"\n",
    "]\n",
    "\n",
    "\n",
    "yelp_categorias = yelp_categorias[\n",
    "    ~yelp_categorias[\"category\"].isin(categorias_a_eliminar)\n",
    "]\n",
    "\n",
    "\n",
    "print(f\"Quedan {len(yelp_categorias)} restaurantes después de eliminar las categorías no deseadas.\")\n",
    "print(yelp_categorias[\"category\"].value_counts())\n"
   ]
  },
  {
   "cell_type": "markdown",
   "id": "91ef7804",
   "metadata": {},
   "source": [
    "4. Agregamos las variables socioeconómicas de CENSUS."
   ]
  },
  {
   "cell_type": "code",
   "execution_count": 63,
   "id": "5f60e4a3",
   "metadata": {},
   "outputs": [],
   "source": [
    "#Abrimos el archivo de CENSUS que tiene variables socio-economicas y que tiene la variable County.\n",
    "ingresos_nj=pd.read_csv(r\"C:\\Users\\param\\OneDrive\\Escritorio\\Programacion\\Soy Henry\\Proyecto-sentimientos\\DATASET\\Census-Ingresos NJ.csv\")\n",
    "#Quitamos los problemas de tildes, etc para ambos data frames-\n",
    "ingresos_nj['County'] = ingresos_nj['County'].apply(lambda x: unidecode(x).upper())\n",
    "\n",
    "yelp_categorias['County'] = yelp_categorias['County'].apply(lambda x: unidecode(x).upper())\n",
    "\n",
    "# Step 2: Agrupamos por la media de County de las variables que nos interesa\n",
    "ingresos_grouped = ingresos_nj.groupby('County')[[\n",
    "    'MedianHH_Income',\n",
    "    'Median_Home_Value',\n",
    "    'Median_RE_Taxes'\n",
    "]].mean().reset_index()\n",
    "\n",
    "# Step 3: Juntamos ambas tablas\n",
    "yelp_census = pd.merge(yelp_categorias, ingresos_grouped, on='County', how='left')"
   ]
  },
  {
   "cell_type": "code",
   "execution_count": 64,
   "id": "8af5b225",
   "metadata": {},
   "outputs": [
    {
     "name": "stdout",
     "output_type": "stream",
     "text": [
      "Los negocios que son para nuestro análisis son 4719\n"
     ]
    }
   ],
   "source": [
    "#Se eliminan las columnas que no se usarán para el analisis.\n",
    "#Price- tiene muchos nulos y no sirve. Nuestro analisis es por County\n",
    "yelp_census.drop(columns=[\"name\",\"address\",\"city\",\"state\",\"postal_code\",'latitude','longitude',\"categories\",\"geometry\",\"index_right\",\"hours\"],inplace=True)\n",
    "print(f\"Los negocios que son para nuestro análisis son {len(yelp_census)}\")"
   ]
  },
  {
   "cell_type": "markdown",
   "id": "73803de3",
   "metadata": {},
   "source": [
    "5. Vamos a juntar el dataframe de negocios con el de reviews de Yelp"
   ]
  },
  {
   "cell_type": "code",
   "execution_count": 65,
   "id": "dc4cd6df",
   "metadata": {},
   "outputs": [
    {
     "name": "stdout",
     "output_type": "stream",
     "text": [
      "Se encontraron 400315 reviews correspondientes a negocios en yelp_census.\n"
     ]
    }
   ],
   "source": [
    "import json\n",
    "import pandas as pd\n",
    "\n",
    "# Crear un conjunto para búsqueda rápida de business_ids\n",
    "business_ids = set(yelp_census[\"business_id\"].unique())\n",
    "\n",
    "# Lista para guardar reviews relevantes\n",
    "matched_reviews = []\n",
    "\n",
    "# Ruta del archivo JSON\n",
    "json_path = r\"C:\\Users\\param\\OneDrive\\Escritorio\\Programacion\\Soy Henry\\Proyecto-sentimientos\\DATASET\\Yelp\\review.json\"\n",
    "\n",
    "# Leer línea por línea\n",
    "with open(json_path, 'r', encoding='utf-8') as f:\n",
    "    for line in f:\n",
    "        try:\n",
    "            review = json.loads(line)\n",
    "            if review.get(\"business_id\") in business_ids:\n",
    "                matched_reviews.append(review)\n",
    "        except json.JSONDecodeError:\n",
    "            continue  # línea corrupta\n",
    "\n",
    "# Convertir a DataFrame\n",
    "yelp_reviews = pd.DataFrame(matched_reviews)\n",
    "# Unir con yelp_merged\n",
    "yelp_negocios_reviews = pd.merge(yelp_reviews, yelp_census, on=\"business_id\", how=\"left\")\n",
    "\n",
    "# Ver resultado\n",
    "print(f\"Se encontraron {len(yelp_negocios_reviews)} reviews correspondientes a negocios en yelp_census.\")"
   ]
  },
  {
   "cell_type": "markdown",
   "id": "c08760ae",
   "metadata": {},
   "source": [
    "6. Ahora agreguemos el usuario al yelp_reviews"
   ]
  },
  {
   "cell_type": "code",
   "execution_count": 66,
   "id": "c57e2eef",
   "metadata": {},
   "outputs": [
    {
     "name": "stdout",
     "output_type": "stream",
     "text": [
      "Se encontraron 577644 que corresponde a los reviews de usuarios\n"
     ]
    }
   ],
   "source": [
    "import pyarrow.parquet as pq\n",
    "import pandas as pd\n",
    "\n",
    "# Cargar los user_id únicos como conjunto para búsqueda rápida\n",
    "user_ids = set(yelp_negocios_reviews[\"user_id\"].unique())\n",
    "\n",
    "# Ruta al archivo parquet grande\n",
    "parquet_path = r\"C:\\Users\\param\\OneDrive\\Escritorio\\Programacion\\Soy Henry\\Proyecto-sentimientos\\DATASET\\user.parquet\"\n",
    "\n",
    "# Crear objeto Parquet\n",
    "parquet_file = pq.ParquetFile(parquet_path)\n",
    "\n",
    "# Lista para guardar los resultados\n",
    "filtered_users = []\n",
    "\n",
    "# Leer en batches\n",
    "for batch in parquet_file.iter_batches(batch_size=100_000):\n",
    "    batch_df = batch.to_pandas()\n",
    "    filtered = batch_df[batch_df[\"user_id\"].isin(user_ids)]\n",
    "    filtered_users.append(filtered)\n",
    "\n",
    "# Concatenar todos los resultados\n",
    "users_df = pd.concat(filtered_users, ignore_index=True)\n",
    "\n",
    "# Unir con yelp_merged\n",
    "yelp_usuarios_reviews = pd.merge(yelp_negocios_reviews, users_df, on=\"user_id\", how=\"left\")\n",
    "\n",
    "print(f\"Se encontraron {len(yelp_usuarios_reviews)} que corresponde a los reviews de usuarios\")\n"
   ]
  },
  {
   "cell_type": "code",
   "execution_count": 67,
   "id": "745d9c29",
   "metadata": {},
   "outputs": [
    {
     "name": "stdout",
     "output_type": "stream",
     "text": [
      "Archivo se guardo exitosamente: C:\\Users\\param\\OneDrive\\Escritorio\\Programacion\\Soy Henry\\Proyecto-sentimientos\\DATASET\\datos_yelp_completo.parquet\n"
     ]
    }
   ],
   "source": [
    "# Definir la ruta destino\n",
    "ruta_destino = r\"C:\\Users\\param\\OneDrive\\Escritorio\\Programacion\\Soy Henry\\Proyecto-sentimientos\\DATASET\\datos_yelp_completo.parquet\"\n",
    "\n",
    "# Crear carpeta\n",
    "os.makedirs(os.path.dirname(ruta_destino), exist_ok=True)\n",
    "\n",
    "#Guardar en parquet\n",
    "try:\n",
    "    yelp_usuarios_reviews.to_parquet(ruta_destino, engine=\"pyarrow\", compression=\"snappy\")\n",
    "    print(f\"Archivo se guardo exitosamente: {ruta_destino}\")\n",
    "except Exception as e:\n",
    "    print(f\"Error para guardar archivo: {e}\")"
   ]
  },
  {
   "cell_type": "markdown",
   "id": "894c2c19",
   "metadata": {},
   "source": [
    "7. Ahora agregamos los \"tips\"."
   ]
  },
  {
   "cell_type": "markdown",
   "id": "a9e8ef55",
   "metadata": {},
   "source": []
  },
  {
   "cell_type": "code",
   "execution_count": 15,
   "id": "37c055f6",
   "metadata": {},
   "outputs": [
    {
     "ename": "MemoryError",
     "evalue": "Unable to allocate 3.47 GiB for an array with shape (11, 42338954) and data type object",
     "output_type": "error",
     "traceback": [
      "\u001b[1;31m---------------------------------------------------------------------------\u001b[0m",
      "\u001b[1;31mMemoryError\u001b[0m                               Traceback (most recent call last)",
      "Cell \u001b[1;32mIn[15], line 27\u001b[0m\n\u001b[0;32m     24\u001b[0m tips_df \u001b[38;5;241m=\u001b[39m pd\u001b[38;5;241m.\u001b[39mDataFrame(matched_reviews)\n\u001b[0;32m     26\u001b[0m \u001b[38;5;66;03m# Unir con yelp_census si quieres los datos completos del negocio\u001b[39;00m\n\u001b[1;32m---> 27\u001b[0m yelp_completo \u001b[38;5;241m=\u001b[39m \u001b[43mpd\u001b[49m\u001b[38;5;241;43m.\u001b[39;49m\u001b[43mmerge\u001b[49m\u001b[43m(\u001b[49m\u001b[43myelp_usuarios_reviews\u001b[49m\u001b[43m,\u001b[49m\u001b[43mtips_df\u001b[49m\u001b[43m,\u001b[49m\u001b[43m \u001b[49m\u001b[43mon\u001b[49m\u001b[38;5;241;43m=\u001b[39;49m\u001b[38;5;124;43m\"\u001b[39;49m\u001b[38;5;124;43mbusiness_id\u001b[39;49m\u001b[38;5;124;43m\"\u001b[39;49m\u001b[43m,\u001b[49m\u001b[43m \u001b[49m\u001b[43mhow\u001b[49m\u001b[38;5;241;43m=\u001b[39;49m\u001b[38;5;124;43m\"\u001b[39;49m\u001b[38;5;124;43mleft\u001b[39;49m\u001b[38;5;124;43m\"\u001b[39;49m\u001b[43m)\u001b[49m\n\u001b[0;32m     29\u001b[0m \u001b[38;5;66;03m# Ver resultado\u001b[39;00m\n\u001b[0;32m     30\u001b[0m \u001b[38;5;28mprint\u001b[39m(\u001b[38;5;124mf\u001b[39m\u001b[38;5;124m\"\u001b[39m\u001b[38;5;124mSe encontraron \u001b[39m\u001b[38;5;132;01m{\u001b[39;00m\u001b[38;5;28mlen\u001b[39m(yelp_completo)\u001b[38;5;132;01m}\u001b[39;00m\u001b[38;5;124m reviews correspondientes a negocios en yelp_census.\u001b[39m\u001b[38;5;124m\"\u001b[39m)\n",
      "File \u001b[1;32mc:\\Users\\param\\AppData\\Local\\Programs\\Python\\Python311\\Lib\\site-packages\\pandas\\core\\reshape\\merge.py:184\u001b[0m, in \u001b[0;36mmerge\u001b[1;34m(left, right, how, on, left_on, right_on, left_index, right_index, sort, suffixes, copy, indicator, validate)\u001b[0m\n\u001b[0;32m    169\u001b[0m \u001b[38;5;28;01melse\u001b[39;00m:\n\u001b[0;32m    170\u001b[0m     op \u001b[38;5;241m=\u001b[39m _MergeOperation(\n\u001b[0;32m    171\u001b[0m         left_df,\n\u001b[0;32m    172\u001b[0m         right_df,\n\u001b[1;32m   (...)\u001b[0m\n\u001b[0;32m    182\u001b[0m         validate\u001b[38;5;241m=\u001b[39mvalidate,\n\u001b[0;32m    183\u001b[0m     )\n\u001b[1;32m--> 184\u001b[0m     \u001b[38;5;28;01mreturn\u001b[39;00m \u001b[43mop\u001b[49m\u001b[38;5;241;43m.\u001b[39;49m\u001b[43mget_result\u001b[49m\u001b[43m(\u001b[49m\u001b[43mcopy\u001b[49m\u001b[38;5;241;43m=\u001b[39;49m\u001b[43mcopy\u001b[49m\u001b[43m)\u001b[49m\n",
      "File \u001b[1;32mc:\\Users\\param\\AppData\\Local\\Programs\\Python\\Python311\\Lib\\site-packages\\pandas\\core\\reshape\\merge.py:888\u001b[0m, in \u001b[0;36m_MergeOperation.get_result\u001b[1;34m(self, copy)\u001b[0m\n\u001b[0;32m    884\u001b[0m     \u001b[38;5;28mself\u001b[39m\u001b[38;5;241m.\u001b[39mleft, \u001b[38;5;28mself\u001b[39m\u001b[38;5;241m.\u001b[39mright \u001b[38;5;241m=\u001b[39m \u001b[38;5;28mself\u001b[39m\u001b[38;5;241m.\u001b[39m_indicator_pre_merge(\u001b[38;5;28mself\u001b[39m\u001b[38;5;241m.\u001b[39mleft, \u001b[38;5;28mself\u001b[39m\u001b[38;5;241m.\u001b[39mright)\n\u001b[0;32m    886\u001b[0m join_index, left_indexer, right_indexer \u001b[38;5;241m=\u001b[39m \u001b[38;5;28mself\u001b[39m\u001b[38;5;241m.\u001b[39m_get_join_info()\n\u001b[1;32m--> 888\u001b[0m result \u001b[38;5;241m=\u001b[39m \u001b[38;5;28;43mself\u001b[39;49m\u001b[38;5;241;43m.\u001b[39;49m\u001b[43m_reindex_and_concat\u001b[49m\u001b[43m(\u001b[49m\n\u001b[0;32m    889\u001b[0m \u001b[43m    \u001b[49m\u001b[43mjoin_index\u001b[49m\u001b[43m,\u001b[49m\u001b[43m \u001b[49m\u001b[43mleft_indexer\u001b[49m\u001b[43m,\u001b[49m\u001b[43m \u001b[49m\u001b[43mright_indexer\u001b[49m\u001b[43m,\u001b[49m\u001b[43m \u001b[49m\u001b[43mcopy\u001b[49m\u001b[38;5;241;43m=\u001b[39;49m\u001b[43mcopy\u001b[49m\n\u001b[0;32m    890\u001b[0m \u001b[43m\u001b[49m\u001b[43m)\u001b[49m\n\u001b[0;32m    891\u001b[0m result \u001b[38;5;241m=\u001b[39m result\u001b[38;5;241m.\u001b[39m__finalize__(\u001b[38;5;28mself\u001b[39m, method\u001b[38;5;241m=\u001b[39m\u001b[38;5;28mself\u001b[39m\u001b[38;5;241m.\u001b[39m_merge_type)\n\u001b[0;32m    893\u001b[0m \u001b[38;5;28;01mif\u001b[39;00m \u001b[38;5;28mself\u001b[39m\u001b[38;5;241m.\u001b[39mindicator:\n",
      "File \u001b[1;32mc:\\Users\\param\\AppData\\Local\\Programs\\Python\\Python311\\Lib\\site-packages\\pandas\\core\\reshape\\merge.py:848\u001b[0m, in \u001b[0;36m_MergeOperation._reindex_and_concat\u001b[1;34m(self, join_index, left_indexer, right_indexer, copy)\u001b[0m\n\u001b[0;32m    840\u001b[0m llabels, rlabels \u001b[38;5;241m=\u001b[39m _items_overlap_with_suffix(\n\u001b[0;32m    841\u001b[0m     \u001b[38;5;28mself\u001b[39m\u001b[38;5;241m.\u001b[39mleft\u001b[38;5;241m.\u001b[39m_info_axis, \u001b[38;5;28mself\u001b[39m\u001b[38;5;241m.\u001b[39mright\u001b[38;5;241m.\u001b[39m_info_axis, \u001b[38;5;28mself\u001b[39m\u001b[38;5;241m.\u001b[39msuffixes\n\u001b[0;32m    842\u001b[0m )\n\u001b[0;32m    844\u001b[0m \u001b[38;5;28;01mif\u001b[39;00m left_indexer \u001b[38;5;129;01mis\u001b[39;00m \u001b[38;5;129;01mnot\u001b[39;00m \u001b[38;5;28;01mNone\u001b[39;00m \u001b[38;5;129;01mand\u001b[39;00m \u001b[38;5;129;01mnot\u001b[39;00m is_range_indexer(left_indexer, \u001b[38;5;28mlen\u001b[39m(left)):\n\u001b[0;32m    845\u001b[0m     \u001b[38;5;66;03m# Pinning the index here (and in the right code just below) is not\u001b[39;00m\n\u001b[0;32m    846\u001b[0m     \u001b[38;5;66;03m#  necessary, but makes the `.take` more performant if we have e.g.\u001b[39;00m\n\u001b[0;32m    847\u001b[0m     \u001b[38;5;66;03m#  a MultiIndex for left.index.\u001b[39;00m\n\u001b[1;32m--> 848\u001b[0m     lmgr \u001b[38;5;241m=\u001b[39m \u001b[43mleft\u001b[49m\u001b[38;5;241;43m.\u001b[39;49m\u001b[43m_mgr\u001b[49m\u001b[38;5;241;43m.\u001b[39;49m\u001b[43mreindex_indexer\u001b[49m\u001b[43m(\u001b[49m\n\u001b[0;32m    849\u001b[0m \u001b[43m        \u001b[49m\u001b[43mjoin_index\u001b[49m\u001b[43m,\u001b[49m\n\u001b[0;32m    850\u001b[0m \u001b[43m        \u001b[49m\u001b[43mleft_indexer\u001b[49m\u001b[43m,\u001b[49m\n\u001b[0;32m    851\u001b[0m \u001b[43m        \u001b[49m\u001b[43maxis\u001b[49m\u001b[38;5;241;43m=\u001b[39;49m\u001b[38;5;241;43m1\u001b[39;49m\u001b[43m,\u001b[49m\n\u001b[0;32m    852\u001b[0m \u001b[43m        \u001b[49m\u001b[43mcopy\u001b[49m\u001b[38;5;241;43m=\u001b[39;49m\u001b[38;5;28;43;01mFalse\u001b[39;49;00m\u001b[43m,\u001b[49m\n\u001b[0;32m    853\u001b[0m \u001b[43m        \u001b[49m\u001b[43monly_slice\u001b[49m\u001b[38;5;241;43m=\u001b[39;49m\u001b[38;5;28;43;01mTrue\u001b[39;49;00m\u001b[43m,\u001b[49m\n\u001b[0;32m    854\u001b[0m \u001b[43m        \u001b[49m\u001b[43mallow_dups\u001b[49m\u001b[38;5;241;43m=\u001b[39;49m\u001b[38;5;28;43;01mTrue\u001b[39;49;00m\u001b[43m,\u001b[49m\n\u001b[0;32m    855\u001b[0m \u001b[43m        \u001b[49m\u001b[43muse_na_proxy\u001b[49m\u001b[38;5;241;43m=\u001b[39;49m\u001b[38;5;28;43;01mTrue\u001b[39;49;00m\u001b[43m,\u001b[49m\n\u001b[0;32m    856\u001b[0m \u001b[43m    \u001b[49m\u001b[43m)\u001b[49m\n\u001b[0;32m    857\u001b[0m     left \u001b[38;5;241m=\u001b[39m left\u001b[38;5;241m.\u001b[39m_constructor_from_mgr(lmgr, axes\u001b[38;5;241m=\u001b[39mlmgr\u001b[38;5;241m.\u001b[39maxes)\n\u001b[0;32m    858\u001b[0m left\u001b[38;5;241m.\u001b[39mindex \u001b[38;5;241m=\u001b[39m join_index\n",
      "File \u001b[1;32mc:\\Users\\param\\AppData\\Local\\Programs\\Python\\Python311\\Lib\\site-packages\\pandas\\core\\internals\\managers.py:687\u001b[0m, in \u001b[0;36mBaseBlockManager.reindex_indexer\u001b[1;34m(self, new_axis, indexer, axis, fill_value, allow_dups, copy, only_slice, use_na_proxy)\u001b[0m\n\u001b[0;32m    680\u001b[0m     new_blocks \u001b[38;5;241m=\u001b[39m \u001b[38;5;28mself\u001b[39m\u001b[38;5;241m.\u001b[39m_slice_take_blocks_ax0(\n\u001b[0;32m    681\u001b[0m         indexer,\n\u001b[0;32m    682\u001b[0m         fill_value\u001b[38;5;241m=\u001b[39mfill_value,\n\u001b[0;32m    683\u001b[0m         only_slice\u001b[38;5;241m=\u001b[39monly_slice,\n\u001b[0;32m    684\u001b[0m         use_na_proxy\u001b[38;5;241m=\u001b[39muse_na_proxy,\n\u001b[0;32m    685\u001b[0m     )\n\u001b[0;32m    686\u001b[0m \u001b[38;5;28;01melse\u001b[39;00m:\n\u001b[1;32m--> 687\u001b[0m     new_blocks \u001b[38;5;241m=\u001b[39m \u001b[43m[\u001b[49m\n\u001b[0;32m    688\u001b[0m \u001b[43m        \u001b[49m\u001b[43mblk\u001b[49m\u001b[38;5;241;43m.\u001b[39;49m\u001b[43mtake_nd\u001b[49m\u001b[43m(\u001b[49m\n\u001b[0;32m    689\u001b[0m \u001b[43m            \u001b[49m\u001b[43mindexer\u001b[49m\u001b[43m,\u001b[49m\n\u001b[0;32m    690\u001b[0m \u001b[43m            \u001b[49m\u001b[43maxis\u001b[49m\u001b[38;5;241;43m=\u001b[39;49m\u001b[38;5;241;43m1\u001b[39;49m\u001b[43m,\u001b[49m\n\u001b[0;32m    691\u001b[0m \u001b[43m            \u001b[49m\u001b[43mfill_value\u001b[49m\u001b[38;5;241;43m=\u001b[39;49m\u001b[43m(\u001b[49m\n\u001b[0;32m    692\u001b[0m \u001b[43m                \u001b[49m\u001b[43mfill_value\u001b[49m\u001b[43m \u001b[49m\u001b[38;5;28;43;01mif\u001b[39;49;00m\u001b[43m \u001b[49m\u001b[43mfill_value\u001b[49m\u001b[43m \u001b[49m\u001b[38;5;129;43;01mis\u001b[39;49;00m\u001b[43m \u001b[49m\u001b[38;5;129;43;01mnot\u001b[39;49;00m\u001b[43m \u001b[49m\u001b[38;5;28;43;01mNone\u001b[39;49;00m\u001b[43m \u001b[49m\u001b[38;5;28;43;01melse\u001b[39;49;00m\u001b[43m \u001b[49m\u001b[43mblk\u001b[49m\u001b[38;5;241;43m.\u001b[39;49m\u001b[43mfill_value\u001b[49m\n\u001b[0;32m    693\u001b[0m \u001b[43m            \u001b[49m\u001b[43m)\u001b[49m\u001b[43m,\u001b[49m\n\u001b[0;32m    694\u001b[0m \u001b[43m        \u001b[49m\u001b[43m)\u001b[49m\n\u001b[0;32m    695\u001b[0m \u001b[43m        \u001b[49m\u001b[38;5;28;43;01mfor\u001b[39;49;00m\u001b[43m \u001b[49m\u001b[43mblk\u001b[49m\u001b[43m \u001b[49m\u001b[38;5;129;43;01min\u001b[39;49;00m\u001b[43m \u001b[49m\u001b[38;5;28;43mself\u001b[39;49m\u001b[38;5;241;43m.\u001b[39;49m\u001b[43mblocks\u001b[49m\n\u001b[0;32m    696\u001b[0m \u001b[43m    \u001b[49m\u001b[43m]\u001b[49m\n\u001b[0;32m    698\u001b[0m new_axes \u001b[38;5;241m=\u001b[39m \u001b[38;5;28mlist\u001b[39m(\u001b[38;5;28mself\u001b[39m\u001b[38;5;241m.\u001b[39maxes)\n\u001b[0;32m    699\u001b[0m new_axes[axis] \u001b[38;5;241m=\u001b[39m new_axis\n",
      "File \u001b[1;32mc:\\Users\\param\\AppData\\Local\\Programs\\Python\\Python311\\Lib\\site-packages\\pandas\\core\\internals\\managers.py:688\u001b[0m, in \u001b[0;36m<listcomp>\u001b[1;34m(.0)\u001b[0m\n\u001b[0;32m    680\u001b[0m     new_blocks \u001b[38;5;241m=\u001b[39m \u001b[38;5;28mself\u001b[39m\u001b[38;5;241m.\u001b[39m_slice_take_blocks_ax0(\n\u001b[0;32m    681\u001b[0m         indexer,\n\u001b[0;32m    682\u001b[0m         fill_value\u001b[38;5;241m=\u001b[39mfill_value,\n\u001b[0;32m    683\u001b[0m         only_slice\u001b[38;5;241m=\u001b[39monly_slice,\n\u001b[0;32m    684\u001b[0m         use_na_proxy\u001b[38;5;241m=\u001b[39muse_na_proxy,\n\u001b[0;32m    685\u001b[0m     )\n\u001b[0;32m    686\u001b[0m \u001b[38;5;28;01melse\u001b[39;00m:\n\u001b[0;32m    687\u001b[0m     new_blocks \u001b[38;5;241m=\u001b[39m [\n\u001b[1;32m--> 688\u001b[0m         \u001b[43mblk\u001b[49m\u001b[38;5;241;43m.\u001b[39;49m\u001b[43mtake_nd\u001b[49m\u001b[43m(\u001b[49m\n\u001b[0;32m    689\u001b[0m \u001b[43m            \u001b[49m\u001b[43mindexer\u001b[49m\u001b[43m,\u001b[49m\n\u001b[0;32m    690\u001b[0m \u001b[43m            \u001b[49m\u001b[43maxis\u001b[49m\u001b[38;5;241;43m=\u001b[39;49m\u001b[38;5;241;43m1\u001b[39;49m\u001b[43m,\u001b[49m\n\u001b[0;32m    691\u001b[0m \u001b[43m            \u001b[49m\u001b[43mfill_value\u001b[49m\u001b[38;5;241;43m=\u001b[39;49m\u001b[43m(\u001b[49m\n\u001b[0;32m    692\u001b[0m \u001b[43m                \u001b[49m\u001b[43mfill_value\u001b[49m\u001b[43m \u001b[49m\u001b[38;5;28;43;01mif\u001b[39;49;00m\u001b[43m \u001b[49m\u001b[43mfill_value\u001b[49m\u001b[43m \u001b[49m\u001b[38;5;129;43;01mis\u001b[39;49;00m\u001b[43m \u001b[49m\u001b[38;5;129;43;01mnot\u001b[39;49;00m\u001b[43m \u001b[49m\u001b[38;5;28;43;01mNone\u001b[39;49;00m\u001b[43m \u001b[49m\u001b[38;5;28;43;01melse\u001b[39;49;00m\u001b[43m \u001b[49m\u001b[43mblk\u001b[49m\u001b[38;5;241;43m.\u001b[39;49m\u001b[43mfill_value\u001b[49m\n\u001b[0;32m    693\u001b[0m \u001b[43m            \u001b[49m\u001b[43m)\u001b[49m\u001b[43m,\u001b[49m\n\u001b[0;32m    694\u001b[0m \u001b[43m        \u001b[49m\u001b[43m)\u001b[49m\n\u001b[0;32m    695\u001b[0m         \u001b[38;5;28;01mfor\u001b[39;00m blk \u001b[38;5;129;01min\u001b[39;00m \u001b[38;5;28mself\u001b[39m\u001b[38;5;241m.\u001b[39mblocks\n\u001b[0;32m    696\u001b[0m     ]\n\u001b[0;32m    698\u001b[0m new_axes \u001b[38;5;241m=\u001b[39m \u001b[38;5;28mlist\u001b[39m(\u001b[38;5;28mself\u001b[39m\u001b[38;5;241m.\u001b[39maxes)\n\u001b[0;32m    699\u001b[0m new_axes[axis] \u001b[38;5;241m=\u001b[39m new_axis\n",
      "File \u001b[1;32mc:\\Users\\param\\AppData\\Local\\Programs\\Python\\Python311\\Lib\\site-packages\\pandas\\core\\internals\\blocks.py:1307\u001b[0m, in \u001b[0;36mBlock.take_nd\u001b[1;34m(self, indexer, axis, new_mgr_locs, fill_value)\u001b[0m\n\u001b[0;32m   1304\u001b[0m     allow_fill \u001b[38;5;241m=\u001b[39m \u001b[38;5;28;01mTrue\u001b[39;00m\n\u001b[0;32m   1306\u001b[0m \u001b[38;5;66;03m# Note: algos.take_nd has upcast logic similar to coerce_to_target_dtype\u001b[39;00m\n\u001b[1;32m-> 1307\u001b[0m new_values \u001b[38;5;241m=\u001b[39m \u001b[43malgos\u001b[49m\u001b[38;5;241;43m.\u001b[39;49m\u001b[43mtake_nd\u001b[49m\u001b[43m(\u001b[49m\n\u001b[0;32m   1308\u001b[0m \u001b[43m    \u001b[49m\u001b[43mvalues\u001b[49m\u001b[43m,\u001b[49m\u001b[43m \u001b[49m\u001b[43mindexer\u001b[49m\u001b[43m,\u001b[49m\u001b[43m \u001b[49m\u001b[43maxis\u001b[49m\u001b[38;5;241;43m=\u001b[39;49m\u001b[43maxis\u001b[49m\u001b[43m,\u001b[49m\u001b[43m \u001b[49m\u001b[43mallow_fill\u001b[49m\u001b[38;5;241;43m=\u001b[39;49m\u001b[43mallow_fill\u001b[49m\u001b[43m,\u001b[49m\u001b[43m \u001b[49m\u001b[43mfill_value\u001b[49m\u001b[38;5;241;43m=\u001b[39;49m\u001b[43mfill_value\u001b[49m\n\u001b[0;32m   1309\u001b[0m \u001b[43m\u001b[49m\u001b[43m)\u001b[49m\n\u001b[0;32m   1311\u001b[0m \u001b[38;5;66;03m# Called from three places in managers, all of which satisfy\u001b[39;00m\n\u001b[0;32m   1312\u001b[0m \u001b[38;5;66;03m#  these assertions\u001b[39;00m\n\u001b[0;32m   1313\u001b[0m \u001b[38;5;28;01mif\u001b[39;00m \u001b[38;5;28misinstance\u001b[39m(\u001b[38;5;28mself\u001b[39m, ExtensionBlock):\n\u001b[0;32m   1314\u001b[0m     \u001b[38;5;66;03m# NB: in this case, the 'axis' kwarg will be ignored in the\u001b[39;00m\n\u001b[0;32m   1315\u001b[0m     \u001b[38;5;66;03m#  algos.take_nd call above.\u001b[39;00m\n",
      "File \u001b[1;32mc:\\Users\\param\\AppData\\Local\\Programs\\Python\\Python311\\Lib\\site-packages\\pandas\\core\\array_algos\\take.py:117\u001b[0m, in \u001b[0;36mtake_nd\u001b[1;34m(arr, indexer, axis, fill_value, allow_fill)\u001b[0m\n\u001b[0;32m    114\u001b[0m     \u001b[38;5;28;01mreturn\u001b[39;00m arr\u001b[38;5;241m.\u001b[39mtake(indexer, fill_value\u001b[38;5;241m=\u001b[39mfill_value, allow_fill\u001b[38;5;241m=\u001b[39mallow_fill)\n\u001b[0;32m    116\u001b[0m arr \u001b[38;5;241m=\u001b[39m np\u001b[38;5;241m.\u001b[39masarray(arr)\n\u001b[1;32m--> 117\u001b[0m \u001b[38;5;28;01mreturn\u001b[39;00m \u001b[43m_take_nd_ndarray\u001b[49m\u001b[43m(\u001b[49m\u001b[43marr\u001b[49m\u001b[43m,\u001b[49m\u001b[43m \u001b[49m\u001b[43mindexer\u001b[49m\u001b[43m,\u001b[49m\u001b[43m \u001b[49m\u001b[43maxis\u001b[49m\u001b[43m,\u001b[49m\u001b[43m \u001b[49m\u001b[43mfill_value\u001b[49m\u001b[43m,\u001b[49m\u001b[43m \u001b[49m\u001b[43mallow_fill\u001b[49m\u001b[43m)\u001b[49m\n",
      "File \u001b[1;32mc:\\Users\\param\\AppData\\Local\\Programs\\Python\\Python311\\Lib\\site-packages\\pandas\\core\\array_algos\\take.py:157\u001b[0m, in \u001b[0;36m_take_nd_ndarray\u001b[1;34m(arr, indexer, axis, fill_value, allow_fill)\u001b[0m\n\u001b[0;32m    155\u001b[0m     out \u001b[38;5;241m=\u001b[39m np\u001b[38;5;241m.\u001b[39mempty(out_shape, dtype\u001b[38;5;241m=\u001b[39mdtype, order\u001b[38;5;241m=\u001b[39m\u001b[38;5;124m\"\u001b[39m\u001b[38;5;124mF\u001b[39m\u001b[38;5;124m\"\u001b[39m)\n\u001b[0;32m    156\u001b[0m \u001b[38;5;28;01melse\u001b[39;00m:\n\u001b[1;32m--> 157\u001b[0m     out \u001b[38;5;241m=\u001b[39m np\u001b[38;5;241m.\u001b[39mempty(out_shape, dtype\u001b[38;5;241m=\u001b[39mdtype)\n\u001b[0;32m    159\u001b[0m func \u001b[38;5;241m=\u001b[39m _get_take_nd_function(\n\u001b[0;32m    160\u001b[0m     arr\u001b[38;5;241m.\u001b[39mndim, arr\u001b[38;5;241m.\u001b[39mdtype, out\u001b[38;5;241m.\u001b[39mdtype, axis\u001b[38;5;241m=\u001b[39maxis, mask_info\u001b[38;5;241m=\u001b[39mmask_info\n\u001b[0;32m    161\u001b[0m )\n\u001b[0;32m    162\u001b[0m func(arr, indexer, out, fill_value)\n",
      "\u001b[1;31mMemoryError\u001b[0m: Unable to allocate 3.47 GiB for an array with shape (11, 42338954) and data type object"
     ]
    }
   ],
   "source": [
    "import json\n",
    "import pandas as pd\n",
    "\n",
    "# Crear un conjunto para búsqueda rápida de business_ids\n",
    "business_ids = set(yelp_usuarios_reviews[\"business_id\"].unique())\n",
    "\n",
    "# Lista para guardar reviews relevantes\n",
    "matched_reviews = []\n",
    "\n",
    "# Ruta del archivo JSON\n",
    "json_path = r\"C:\\Users\\param\\OneDrive\\Escritorio\\Programacion\\Soy Henry\\Proyecto-sentimientos\\DATASET\\Yelp\\tip.json\"\n",
    "\n",
    "# Leer línea por línea\n",
    "with open(json_path, 'r', encoding='utf-8') as f:\n",
    "    for line in f:\n",
    "        try:\n",
    "            review = json.loads(line)\n",
    "            if review.get(\"business_id\") in business_ids:\n",
    "                matched_reviews.append(review)\n",
    "        except json.JSONDecodeError:\n",
    "            continue  # línea corrupta\n",
    "\n",
    "# Convertir a DataFrame\n",
    "tips_df = pd.DataFrame(matched_reviews)\n",
    "\n",
    "# Unir con yelp_census si quieres los datos completos del negocio\n",
    "yelp_completo = pd.merge(yelp_usuarios_reviews,tips_df, on=\"business_id\", how=\"left\")\n",
    "\n",
    "# Ver resultado\n",
    "print(f\"Se encontraron {len(yelp_completo)} reviews correspondientes a negocios en yelp_census.\")"
   ]
  },
  {
   "cell_type": "code",
   "execution_count": 73,
   "id": "1efcc0dd",
   "metadata": {},
   "outputs": [
    {
     "data": {
      "text/html": [
       "<div>\n",
       "<style scoped>\n",
       "    .dataframe tbody tr th:only-of-type {\n",
       "        vertical-align: middle;\n",
       "    }\n",
       "\n",
       "    .dataframe tbody tr th {\n",
       "        vertical-align: top;\n",
       "    }\n",
       "\n",
       "    .dataframe thead th {\n",
       "        text-align: right;\n",
       "    }\n",
       "</style>\n",
       "<table border=\"1\" class=\"dataframe\">\n",
       "  <thead>\n",
       "    <tr style=\"text-align: right;\">\n",
       "      <th></th>\n",
       "      <th>review_id</th>\n",
       "      <th>user_id</th>\n",
       "      <th>business_id</th>\n",
       "      <th>stars_x</th>\n",
       "      <th>useful_x</th>\n",
       "      <th>funny_x</th>\n",
       "      <th>cool_x</th>\n",
       "      <th>text</th>\n",
       "      <th>date</th>\n",
       "      <th>stars_y</th>\n",
       "      <th>...</th>\n",
       "      <th>compliment_more</th>\n",
       "      <th>compliment_profile</th>\n",
       "      <th>compliment_cute</th>\n",
       "      <th>compliment_list</th>\n",
       "      <th>compliment_note</th>\n",
       "      <th>compliment_plain</th>\n",
       "      <th>compliment_cool</th>\n",
       "      <th>compliment_funny</th>\n",
       "      <th>compliment_writer</th>\n",
       "      <th>compliment_photos</th>\n",
       "    </tr>\n",
       "  </thead>\n",
       "  <tbody>\n",
       "    <tr>\n",
       "      <th>0</th>\n",
       "      <td>JrIxlS1TzJ-iCu79ul40cQ</td>\n",
       "      <td>eUta8W_HdHMXPzLBBZhL1A</td>\n",
       "      <td>04UD14gamNjLY0IDYVhHJg</td>\n",
       "      <td>1.0</td>\n",
       "      <td>1</td>\n",
       "      <td>2</td>\n",
       "      <td>1</td>\n",
       "      <td>I am a long term frequent customer of this est...</td>\n",
       "      <td>2015-09-23 23:10:31</td>\n",
       "      <td>4.0</td>\n",
       "      <td>...</td>\n",
       "      <td>0</td>\n",
       "      <td>0</td>\n",
       "      <td>0</td>\n",
       "      <td>0</td>\n",
       "      <td>1</td>\n",
       "      <td>0</td>\n",
       "      <td>0</td>\n",
       "      <td>0</td>\n",
       "      <td>0</td>\n",
       "      <td>0</td>\n",
       "    </tr>\n",
       "    <tr>\n",
       "      <th>1</th>\n",
       "      <td>8JFGBuHMoiNDyfcxuWNtrA</td>\n",
       "      <td>smOvOajNG0lS4Pq7d8g4JQ</td>\n",
       "      <td>RZtGWDLCAtuipwaZ-UfjmQ</td>\n",
       "      <td>4.0</td>\n",
       "      <td>0</td>\n",
       "      <td>0</td>\n",
       "      <td>0</td>\n",
       "      <td>Good food--loved the gnocchi with marinara\\nth...</td>\n",
       "      <td>2009-10-14 19:57:14</td>\n",
       "      <td>3.5</td>\n",
       "      <td>...</td>\n",
       "      <td>0</td>\n",
       "      <td>0</td>\n",
       "      <td>1</td>\n",
       "      <td>0</td>\n",
       "      <td>3</td>\n",
       "      <td>2</td>\n",
       "      <td>1</td>\n",
       "      <td>1</td>\n",
       "      <td>0</td>\n",
       "      <td>0</td>\n",
       "    </tr>\n",
       "  </tbody>\n",
       "</table>\n",
       "<p>2 rows × 40 columns</p>\n",
       "</div>"
      ],
      "text/plain": [
       "                review_id                 user_id             business_id  \\\n",
       "0  JrIxlS1TzJ-iCu79ul40cQ  eUta8W_HdHMXPzLBBZhL1A  04UD14gamNjLY0IDYVhHJg   \n",
       "1  8JFGBuHMoiNDyfcxuWNtrA  smOvOajNG0lS4Pq7d8g4JQ  RZtGWDLCAtuipwaZ-UfjmQ   \n",
       "\n",
       "   stars_x  useful_x  funny_x  cool_x  \\\n",
       "0      1.0         1        2       1   \n",
       "1      4.0         0        0       0   \n",
       "\n",
       "                                                text                 date  \\\n",
       "0  I am a long term frequent customer of this est...  2015-09-23 23:10:31   \n",
       "1  Good food--loved the gnocchi with marinara\\nth...  2009-10-14 19:57:14   \n",
       "\n",
       "  stars_y  ... compliment_more compliment_profile compliment_cute  \\\n",
       "0     4.0  ...               0                  0               0   \n",
       "1     3.5  ...               0                  0               1   \n",
       "\n",
       "  compliment_list compliment_note compliment_plain  compliment_cool  \\\n",
       "0               0               1                0                0   \n",
       "1               0               3                2                1   \n",
       "\n",
       "   compliment_funny  compliment_writer compliment_photos  \n",
       "0                 0                  0                 0  \n",
       "1                 1                  0                 0  \n",
       "\n",
       "[2 rows x 40 columns]"
      ]
     },
     "execution_count": 73,
     "metadata": {},
     "output_type": "execute_result"
    }
   ],
   "source": [
    "yelp_usuarios_reviews.head(2)"
   ]
  }
 ],
 "metadata": {
  "kernelspec": {
   "display_name": "Python 3",
   "language": "python",
   "name": "python3"
  },
  "language_info": {
   "codemirror_mode": {
    "name": "ipython",
    "version": 3
   },
   "file_extension": ".py",
   "mimetype": "text/x-python",
   "name": "python",
   "nbconvert_exporter": "python",
   "pygments_lexer": "ipython3",
   "version": "3.11.9"
  }
 },
 "nbformat": 4,
 "nbformat_minor": 5
}
