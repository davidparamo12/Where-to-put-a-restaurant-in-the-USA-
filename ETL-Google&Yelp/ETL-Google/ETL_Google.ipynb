{
 "cells": [
  {
   "cell_type": "markdown",
   "id": "a6f64d35",
   "metadata": {},
   "source": [
    "1. Leemos todos los archivos bajados de Google business. El dataset es entregado por Soy Henry."
   ]
  },
  {
   "cell_type": "code",
   "execution_count": 4,
   "id": "de871fd8",
   "metadata": {},
   "outputs": [],
   "source": [
    "# Librerias Necesarias \n",
    "import pandas as pd\n",
    "import numpy as np\n",
    "import os\n",
    "import ast\n",
    "import re\n",
    "from unidecode import unidecode\n",
    "import json\n",
    "\n",
    "\n",
    "# Los path de los datos\n",
    "list_sitios_path = [\n",
    "    r\"C:\\Users\\param\\OneDrive\\Escritorio\\Programacion\\Soy Henry\\Proyecto-sentimientos\\DATASET\\Google\\1.json\",\n",
    "    r\"C:\\Users\\param\\OneDrive\\Escritorio\\Programacion\\Soy Henry\\Proyecto-sentimientos\\DATASET\\Google\\2.json\",\n",
    "    r\"C:\\Users\\param\\OneDrive\\Escritorio\\Programacion\\Soy Henry\\Proyecto-sentimientos\\DATASET\\Google\\3.json\",\n",
    "    r\"C:\\Users\\param\\OneDrive\\Escritorio\\Programacion\\Soy Henry\\Proyecto-sentimientos\\DATASET\\Google\\4.json\",\n",
    "    r\"C:\\Users\\param\\OneDrive\\Escritorio\\Programacion\\Soy Henry\\Proyecto-sentimientos\\DATASET\\Google\\5.json\",\n",
    "    r\"C:\\Users\\param\\OneDrive\\Escritorio\\Programacion\\Soy Henry\\Proyecto-sentimientos\\DATASET\\Google\\6.json\",\n",
    "    r\"C:\\Users\\param\\OneDrive\\Escritorio\\Programacion\\Soy Henry\\Proyecto-sentimientos\\DATASET\\Google\\7.json\",\n",
    "    r\"C:\\Users\\param\\OneDrive\\Escritorio\\Programacion\\Soy Henry\\Proyecto-sentimientos\\DATASET\\Google\\8.json\",\n",
    "    r\"C:\\Users\\param\\OneDrive\\Escritorio\\Programacion\\Soy Henry\\Proyecto-sentimientos\\DATASET\\Google\\9.json\",\n",
    "    r\"C:\\Users\\param\\OneDrive\\Escritorio\\Programacion\\Soy Henry\\Proyecto-sentimientos\\DATASET\\Google\\10.json\",\n",
    "    r\"C:\\Users\\param\\OneDrive\\Escritorio\\Programacion\\Soy Henry\\Proyecto-sentimientos\\DATASET\\Google\\11.json\"\n",
    "]"
   ]
  },
  {
   "cell_type": "markdown",
   "id": "daf79229",
   "metadata": {},
   "source": [
    "2. Sólo guardaremos los datos que son de New Jersey que son el centro de nuestro análisis. Este método de particionamiento resultó muy útil."
   ]
  },
  {
   "cell_type": "code",
   "execution_count": 5,
   "id": "e963b84b",
   "metadata": {},
   "outputs": [
    {
     "name": "stdout",
     "output_type": "stream",
     "text": [
      "Se encontró 186673 locaciones únicas en NJ\n"
     ]
    }
   ],
   "source": [
    "import pandas as pd\n",
    "\n",
    "#Los límites de New Jersey ampliados-- esto luego se hace más preciso con la libreria GeoPandas\n",
    "NJ_LAT_MIN = 38.8\n",
    "NJ_LAT_MAX = 41.6\n",
    "NJ_LON_MIN = -75.7\n",
    "NJ_LON_MAX = -73.9\n",
    "\n",
    "for i in range(11):\n",
    "    df = pd.read_json(list_sitios_path[i], lines=True)\n",
    "    \n",
    "    # Filter for NJ locations\n",
    "    nj_mask = (\n",
    "        (df['latitude'].between(NJ_LAT_MIN, NJ_LAT_MAX)) & \n",
    "        (df['longitude'].between(NJ_LON_MIN, NJ_LON_MAX))\n",
    "    )\n",
    "    df = df[nj_mask].copy()\n",
    "    \n",
    "    if i == 0:\n",
    "        google_sitios = df.copy()\n",
    "    else:\n",
    "        google_sitios = pd.concat([google_sitios, df], axis=0, ignore_index=True)\n",
    "    \n",
    "    del df  # Liberar memoria\n",
    "\n",
    "# Remover duplicados de gmaps\n",
    "google_sitios = google_sitios.drop_duplicates(subset=['gmap_id'])\n",
    "\n",
    "print(f\"Se encontró {len(google_sitios)} locaciones únicas en NJ\")"
   ]
  },
  {
   "cell_type": "markdown",
   "id": "2524ebee",
   "metadata": {},
   "source": [
    "3. Buscamos en la lista \"Category\" cualquier elemento que tenga la palabra \"restaurant\"."
   ]
  },
  {
   "cell_type": "code",
   "execution_count": 6,
   "id": "3daf26ae",
   "metadata": {},
   "outputs": [
    {
     "name": "stdout",
     "output_type": "stream",
     "text": [
      "<class 'list'>\n"
     ]
    }
   ],
   "source": [
    "print(type(google_sitios['category'].iloc[0]))  # Dado que es una lista, podemos buscar la palabra restaurant como un elemento de una lista."
   ]
  },
  {
   "cell_type": "code",
   "execution_count": 7,
   "id": "083d7b9a",
   "metadata": {},
   "outputs": [
    {
     "name": "stdout",
     "output_type": "stream",
     "text": [
      "Se encontro 19686 restaurantes en NJ\n"
     ]
    }
   ],
   "source": [
    "#Creamos una función de busqueda de la palabra \"restaurant\"  \n",
    "def contains_restaurant(categories):\n",
    "    if not categories or not isinstance(categories, list):\n",
    "        return False\n",
    "    return any(\"restaurant\" in str(cat).lower() for cat in categories)\n",
    "\n",
    "\n",
    "google_restaurantes = google_sitios[google_sitios[\"category\"].apply(contains_restaurant)]\n",
    "\n",
    "print(f\"Se encontro {len(google_restaurantes)} restaurantes en NJ\")"
   ]
  },
  {
   "cell_type": "markdown",
   "id": "020cc5e9",
   "metadata": {},
   "source": [
    "4. Eliminamos los restaurantes que están cerrados"
   ]
  },
  {
   "cell_type": "code",
   "execution_count": 8,
   "id": "cfea455a",
   "metadata": {},
   "outputs": [
    {
     "name": "stdout",
     "output_type": "stream",
     "text": [
      "Se encontró 14867 restaurantes abiertos\n"
     ]
    }
   ],
   "source": [
    "google_restaurantes = google_restaurantes[google_restaurantes[\"state\"] != \"Permanently closed\"].reset_index(drop=True)\n",
    "\n",
    "print(f\"Se encontró {len(google_restaurantes)} restaurantes abiertos\")"
   ]
  },
  {
   "cell_type": "markdown",
   "id": "b104771d",
   "metadata": {},
   "source": [
    "5. Categorizamos los restaurantes con la columna \"category_group\"."
   ]
  },
  {
   "cell_type": "code",
   "execution_count": 9,
   "id": "3285c30a",
   "metadata": {},
   "outputs": [
    {
     "name": "stdout",
     "output_type": "stream",
     "text": [
      "El número de restaurantes que NO están categorizados es de 4685\n"
     ]
    }
   ],
   "source": [
    "# Mapeo de la categorización- creamos una columna nueva llamada category group.\n",
    "# Este mapeo fue elaborado con la ayuda de AI... Resultó el mas adecuado de acuerdo a todas las categorias que habian de restaurantes\n",
    "\n",
    "category_mapping = {\n",
    "    # Fast Food\n",
    "    \"Hamburger restaurant\": \"Fast Food\",\n",
    "    \"Hot dog restaurant\": \"Fast Food\",\n",
    "    \"Chicken wings restaurant\": \"Fast Food\",\n",
    "    \"Sandwich shop\": \"Fast Food\",\n",
    "    \"Cheesesteak restaurant\": \"Fast Food\",\n",
    "    \"Fast food restaurant\": \"Fast Food\",\n",
    "    \n",
    "    # Pizza and Pasta\n",
    "    \"Pizza restaurant\": \"Pizza and Pasta\",\n",
    "    \"Pizza delivery\": \"Pizza and Pasta\",\n",
    "    \"Pizza Takeout\": \"Pizza and Pasta\",\n",
    "    \"Pasta shop\": \"Pizza and Pasta\",\n",
    "    \"Italian restaurant\": \"Pizza and Pasta\",\n",
    "    \n",
    "    # Asian Cuisine\n",
    "    \"Chinese restaurant\": \"Asian Cuisine\",\n",
    "    \"Japanese restaurant\": \"Asian Cuisine\",\n",
    "    \"Sushi restaurant\": \"Asian Cuisine\",\n",
    "    \"Ramen restaurant\": \"Asian Cuisine\",\n",
    "    \"Thai restaurant\": \"Asian Cuisine\",\n",
    "    \"Vietnamese restaurant\": \"Asian Cuisine\",\n",
    "    \"Asian fusion restaurant\": \"Asian Cuisine\",\n",
    "    \"Korean restaurant\": \"Asian Cuisine\",\n",
    "    \"Dim sum restaurant\": \"Asian Cuisine\",\n",
    "    \"Noodle shop\": \"Asian Cuisine\",\n",
    "    \n",
    "    # Latin & Mexican\n",
    "    \"Mexican restaurant\": \"Latin & Mexican\",\n",
    "    \"Salvadoran restaurant\": \"Latin & Mexican\",\n",
    "    \"Guatemalan restaurant\": \"Latin & Mexican\",\n",
    "    \"Latin American restaurant\": \"Latin & Mexican\",\n",
    "    \"Taco restaurant\": \"Latin & Mexican\",\n",
    "    \"Peruvian restaurant\": \"Latin & Mexican\",\n",
    "    \"Caribbean restaurant\": \"Latin & Mexican\",\n",
    "    \"Puerto Rican restaurant\": \"Latin & Mexican\",\n",
    "    \"Tex-Mex restaurant\": \"Latin & Mexican\",\n",
    "    \n",
    "    # Healthy & Specialty Diets\n",
    "    \"Vegan restaurant\": \"Healthy & Specialty Diets\",\n",
    "    \"Vegetarian restaurant\": \"Healthy & Specialty Diets\",\n",
    "    \"Health food restaurant\": \"Healthy & Specialty Diets\",\n",
    "    \"Gluten-free restaurant\": \"Healthy & Specialty Diets\",\n",
    "    \"Kosher restaurant\": \"Healthy & Specialty Diets\",\n",
    "    \"Organic restaurant\": \"Healthy & Specialty Diets\",\n",
    "    \"Salad shop\": \"Healthy & Specialty Diets\",\n",
    "    \n",
    "    # Indian & Middle Eastern\n",
    "    \"Indian restaurant\": \"Indian & Middle Eastern\",\n",
    "    \"Pakistani restaurant\": \"Indian & Middle Eastern\",\n",
    "    \"Middle Eastern restaurant\": \"Indian & Middle Eastern\",\n",
    "    \"Mediterranean restaurant\": \"Indian & Middle Eastern\",\n",
    "    \"Shawarma restaurant\": \"Indian & Middle Eastern\",\n",
    "    \"Falafel restaurant\": \"Indian & Middle Eastern\",\n",
    "    \"Halal restaurant\": \"Indian & Middle Eastern\",\n",
    "    \n",
    "    # European & Continental\n",
    "    \"Spanish restaurant\": \"European & Continental\",\n",
    "    \"Greek restaurant\": \"European & Continental\",\n",
    "    \"German restaurant\": \"European & Continental\",\n",
    "    \"Irish pub\": \"European & Continental\",\n",
    "    \"Polish restaurant\": \"European & Continental\",\n",
    "    \"Portuguese restaurant\": \"European & Continental\",\n",
    "    \n",
    "    # Cafés & Bakeries\n",
    "    \"Coffee shop\": \"Cafés & Bakeries\",\n",
    "    \"Bakery\": \"Cafés & Bakeries\",\n",
    "    \"Bagel shop\": \"Cafés & Bakeries\",\n",
    "    \"Donut shop\": \"Cafés & Bakeries\",\n",
    "    \"Dessert shop\": \"Cafés & Bakeries\",\n",
    "    \"Cake shop\": \"Cafés & Bakeries\",\n",
    "    \"Pretzel store\": \"Cafés & Bakeries\",\n",
    "    \n",
    "    # Bars & Pubs\n",
    "    \"Bar\": \"Bars & Pubs\",\n",
    "    \"Pub\": \"Bars & Pubs\",\n",
    "    \"Wine bar\": \"Bars & Pubs\",\n",
    "    \"Karaoke bar\": \"Bars & Pubs\",\n",
    "    \"Sports bar\": \"Bars & Pubs\",\n",
    "}\n",
    "\n",
    "\n",
    "#Funcion para limpiar lista de category y luego la mapea con el diccionario creado\n",
    "def categorize_restaurant_types(categories):\n",
    "    if not categories or not isinstance(categories, list):\n",
    "        return 'Other'\n",
    "    \n",
    "    for t in categories:\n",
    "        if t in category_mapping:\n",
    "            return category_mapping[t]\n",
    "    return 'Other'\n",
    "\n",
    "\n",
    "\n",
    "google_restaurantes.loc[:, 'category_group'] = google_restaurantes['category'].apply(categorize_restaurant_types)\n",
    "\n",
    "print(f\"El número de restaurantes que NO están categorizados es de {len(google_restaurantes[google_restaurantes['category_group'] == 'Other'])}\")"
   ]
  },
  {
   "cell_type": "markdown",
   "id": "9b585a55",
   "metadata": {},
   "source": [
    "6. La categoria \"Other\" es muy grande y es probable que hayan datos útiles ahi. Para eso, vamos a usar de otra variable que se llama \"description\" y buscaremos si podemos mapear más restaurantes usando de esta variable. "
   ]
  },
  {
   "cell_type": "code",
   "execution_count": 10,
   "id": "cd610c71",
   "metadata": {},
   "outputs": [],
   "source": [
    "# Un mapeo menos estricto\n",
    "category_mapping_2 = {\n",
    "    # Fast Food\n",
    "    \"Hamburger\": \"Fast Food\",\n",
    "    \"Hot dog\": \"Fast Food\",\n",
    "    \"Chicken wings\": \"Fast Food\",\n",
    "    \"Sandwich\": \"Fast Food\",\n",
    "    \"Cheesesteak\": \"Fast Food\",\n",
    "    \"Fast food\": \"Fast Food\",\n",
    "    \n",
    "    # Pizza and Pasta\n",
    "    \"Pizza\": \"Pizza and Pasta\",\n",
    "    \"Italian\": \"Pizza and Pasta\",\n",
    "    \n",
    "    # Asian Cuisine\n",
    "    \"Chinese\": \"Asian Cuisine\",\n",
    "    \"Japanese\": \"Asian Cuisine\",\n",
    "    \"Sushi\": \"Asian Cuisine\",\n",
    "    \"Ramen\": \"Asian Cuisine\",\n",
    "    \"Thai\": \"Asian Cuisine\",\n",
    "    \"Vietnamese\": \"Asian Cuisine\",\n",
    "    \"Asian fusion\": \"Asian Cuisine\",\n",
    "    \"Korean\": \"Asian Cuisine\",\n",
    "    \"Dim sum\": \"Asian Cuisine\",\n",
    "    \"Noodle\": \"Asian Cuisine\",\n",
    "    \n",
    "    # Latin & Mexican\n",
    "    \"Mexican\": \"Latin & Mexican\",\n",
    "    \"Salvadoran\": \"Latin & Mexican\",\n",
    "    \"Guatemalan\": \"Latin & Mexican\",\n",
    "    \"Latin American\": \"Latin & Mexican\",\n",
    "    \"Taco\": \"Latin & Mexican\",\n",
    "    \"Peruvian\": \"Latin & Mexican\",\n",
    "    \"Caribbean\": \"Latin & Mexican\",\n",
    "    \"Puerto Rican\": \"Latin & Mexican\",\n",
    "    \"Tex-Mex\": \"Latin & Mexican\",\n",
    "    \n",
    "    # Healthy & Specialty Diets\n",
    "    \"Vegan\": \"Healthy & Specialty Diets\",\n",
    "    \"Vegetarian\": \"Healthy & Specialty Diets\",\n",
    "    \"Health food\": \"Healthy & Specialty Diets\",\n",
    "    \"Gluten-free\": \"Healthy & Specialty Diets\",\n",
    "    \"Kosher\": \"Healthy & Specialty Diets\",\n",
    "    \"Organic\": \"Healthy & Specialty Diets\",\n",
    "    \"Salad\": \"Healthy & Specialty Diets\",\n",
    "    \n",
    "    # Indian & Middle Eastern\n",
    "    \"Indian\": \"Indian & Middle Eastern\",\n",
    "    \"Pakistani\": \"Indian & Middle Eastern\",\n",
    "    \"Middle Eastern\": \"Indian & Middle Eastern\",\n",
    "    \"Mediterranean\": \"Indian & Middle Eastern\",\n",
    "    \"Shawarma\": \"Indian & Middle Eastern\",\n",
    "    \"Falafel\": \"Indian & Middle Eastern\",\n",
    "    \"Halal\": \"Indian & Middle Eastern\",\n",
    "    \n",
    "    # European & Continental\n",
    "    \"Spanish\": \"European & Continental\",\n",
    "    \"Greek\": \"European & Continental\",\n",
    "    \"German\": \"European & Continental\",\n",
    "    \"Irish\": \"European & Continental\",\n",
    "    \"Polish\": \"European & Continental\",\n",
    "    \"Portuguese\": \"European & Continental\",\n",
    "    \n",
    "    # Cafés & Bakeries\n",
    "    \"Coffee\": \"Cafés & Bakeries\",\n",
    "    \"Bakery\": \"Cafés & Bakeries\",\n",
    "    \"Bagel\": \"Cafés & Bakeries\",\n",
    "    \"Donut\": \"Cafés & Bakeries\",\n",
    "    \"Dessert\": \"Cafés & Bakeries\",\n",
    "    \"Cake\": \"Cafés & Bakeries\",\n",
    "    \"Pretzel\": \"Cafés & Bakeries\",\n",
    "    \n",
    "    # Bars & Pubs\n",
    "    \"Bar\": \"Bars & Pubs\",\n",
    "    \"Pub\": \"Bars & Pubs\",\n",
    "    \"Wine bar\": \"Bars & Pubs\",\n",
    "    \"Karaoke bar\": \"Bars & Pubs\",\n",
    "    \"Sports bar\": \"Bars & Pubs\",\n",
    "}\n"
   ]
  },
  {
   "cell_type": "code",
   "execution_count": 11,
   "id": "97323ed2",
   "metadata": {},
   "outputs": [],
   "source": [
    "# Creamos la función para categorizar\n",
    "def categorize_description(text):\n",
    "    matches = []\n",
    "    if pd.isna(text):\n",
    "        return matches\n",
    "    for keyword, category in category_mapping_2.items():\n",
    "        if keyword.lower() in text.lower():\n",
    "            matches.append(category)\n",
    "    return matches\n",
    "\n",
    "\n",
    "google_restaurantes[\"category_group_2\"] = google_restaurantes[\"description\"].apply(categorize_description)"
   ]
  },
  {
   "cell_type": "code",
   "execution_count": 12,
   "id": "d0409576",
   "metadata": {},
   "outputs": [
    {
     "name": "stdout",
     "output_type": "stream",
     "text": [
      "352 restaurantes fueron actualizados usando la descripción.\n"
     ]
    }
   ],
   "source": [
    "# Convertir la lista en un string con la primera categoría (si hay al menos una)\n",
    "google_restaurantes[\"category_group_2\"] = google_restaurantes[\"category_group_2\"].apply(\n",
    "    lambda x: x[0] if isinstance(x, list) and len(x) > 0 else np.nan\n",
    ")\n",
    "\n",
    "#Contamos cuantos \"other\" hay en la primera categoria y cuantos hay en la segunda.\n",
    "num_actualizados = ((google_restaurantes[\"category_group_2\"].notna()) &\n",
    "                    (google_restaurantes[\"category_group\"] == \"Other\")).sum()\n",
    "\n",
    "print(f\"{num_actualizados} restaurantes fueron actualizados usando la descripción.\")"
   ]
  },
  {
   "cell_type": "code",
   "execution_count": 13,
   "id": "d1938909",
   "metadata": {},
   "outputs": [],
   "source": [
    "#Rellenamos en la categoria el Other por la nueva categoria que sacamos de \"description\"\n",
    "google_restaurantes.loc[\n",
    "    (google_restaurantes[\"category_group\"] == \"Other\") &\n",
    "    (google_restaurantes[\"category_group_2\"].notna()),\n",
    "    \"category_group\"\n",
    "] = google_restaurantes[\"category_group_2\"]"
   ]
  },
  {
   "cell_type": "code",
   "execution_count": 14,
   "id": "a643ac63",
   "metadata": {},
   "outputs": [
    {
     "data": {
      "image/png": "[encoded data removed]",
      "text/plain": [
       "<Figure size 1000x600 with 1 Axes>"
      ]
     },
     "metadata": {},
     "output_type": "display_data"
    }
   ],
   "source": [
    "# Seleccionamos el top 4\n",
    "import matplotlib.pyplot as plt\n",
    "\n",
    "# Count the frequency of each category group\n",
    "group_counts = google_restaurantes['category_group'].value_counts().nlargest(10)\n",
    "\n",
    "# Plot\n",
    "plt.figure(figsize=(10, 6))\n",
    "group_counts.plot(kind='bar', color='skyblue')\n",
    "plt.title('Top 10 Restaurant Category Groups')\n",
    "plt.xlabel('Category Group')\n",
    "plt.ylabel('Number of Restaurants')\n",
    "plt.xticks(rotation=45, ha='right')\n",
    "plt.tight_layout()\n",
    "plt.show()"
   ]
  },
  {
   "cell_type": "markdown",
   "id": "429444a2",
   "metadata": {},
   "source": [
    "Al ver este resultado, vamos a usar las top 5 categorias- por que su volumen implica que hay alta demanda en estas categorias."
   ]
  },
  {
   "cell_type": "code",
   "execution_count": 15,
   "id": "6cebfb1f",
   "metadata": {},
   "outputs": [
    {
     "name": "stdout",
     "output_type": "stream",
     "text": [
      "Quedan 8743 restaurantes después de eliminar las categorías no deseadas.\n",
      "category_group\n",
      "Asian Cuisine       2410\n",
      "Pizza and Pasta     2375\n",
      "Fast Food           1632\n",
      "Latin & Mexican     1278\n",
      "Cafés & Bakeries    1048\n",
      "Name: count, dtype: int64\n"
     ]
    }
   ],
   "source": [
    "categorias_a_eliminar = [\n",
    "    \"Other\",\n",
    "    \"Bars & Pubs\",\n",
    "    \"Indian & Middle Eastern\",\n",
    "    \"Healthy & Specialty Diets\",\n",
    "    \"European & Continental\"\n",
    "]\n",
    "\n",
    "\n",
    "google_restaurantes = google_restaurantes[\n",
    "    ~google_restaurantes[\"category_group\"].isin(categorias_a_eliminar)\n",
    "]\n",
    "\n",
    "\n",
    "print(f\"Quedan {len(google_restaurantes)} restaurantes después de eliminar las categorías no deseadas.\")\n",
    "print(google_restaurantes[\"category_group\"].value_counts())\n"
   ]
  },
  {
   "cell_type": "markdown",
   "id": "80551729",
   "metadata": {},
   "source": [
    "7. Agregamos las variables socio-economicas de Census. El primer paso es crear una variable llamada \"County\"."
   ]
  },
  {
   "cell_type": "code",
   "execution_count": 16,
   "id": "0326f37e",
   "metadata": {},
   "outputs": [
    {
     "name": "stdout",
     "output_type": "stream",
     "text": [
      "Número de restaurantes dentro del área expandida 10%: 7145\n"
     ]
    }
   ],
   "source": [
    "import geopandas as gpd\n",
    "from shapely.geometry import Point\n",
    "\n",
    "# Cargar todos los counties de EE.UU.\n",
    "us_counties = gpd.read_file(\"https://www2.census.gov/geo/tiger/GENZ2022/shp/cb_2022_us_county_500k.zip\")\n",
    "\n",
    "# Filtrar solo los de New Jersey (FIPS State Code = '34')\n",
    "nj_counties = us_counties[us_counties['STATEFP'] == '34'].copy()\n",
    "\n",
    "# Cambiar proyección a una métrica para que el buffer sea en metros (UTM Zone 18N cubre NJ)\n",
    "nj_counties = nj_counties.to_crs(epsg=26918)\n",
    "\n",
    "# Ampliar un 10% el tamaño de los polígonos con buffer\n",
    "nj_counties[\"geometry\"] = nj_counties.geometry.buffer(nj_counties.geometry.area.mean()**0.5 * 0.10)\n",
    "\n",
    "# Regresar a WGS84 para empatar con los puntos (EPSG:4326)\n",
    "nj_counties = nj_counties.to_crs(epsg=4326)\n",
    "\n",
    "# Crear geometrías para restaurantes\n",
    "geometry = [Point(xy) for xy in zip(google_restaurantes[\"longitude\"], google_restaurantes[\"latitude\"])]\n",
    "gdf_restaurantes = gpd.GeoDataFrame(google_restaurantes, geometry=geometry, crs=\"EPSG:4326\")\n",
    "\n",
    "# Cruce espacial con los counties expandidos\n",
    "restaurantes_con_county = gpd.sjoin(\n",
    "    gdf_restaurantes,\n",
    "    nj_counties[[\"NAME\", \"geometry\"]],\n",
    "    how=\"inner\",\n",
    "    predicate=\"within\"\n",
    ")\n",
    "\n",
    "# Renombrar columna\n",
    "restaurantes_con_county = restaurantes_con_county.rename(columns={\"NAME\": \"County\"})\n",
    "\n",
    "print(f\"Número de restaurantes dentro del área expandida 10%: {len(restaurantes_con_county)}\")\n"
   ]
  },
  {
   "cell_type": "code",
   "execution_count": 17,
   "id": "1a60279c",
   "metadata": {},
   "outputs": [
    {
     "name": "stdout",
     "output_type": "stream",
     "text": [
      "La lista de los counties es:['Hudson', 'Camden', 'Bergen', 'Burlington', 'Essex', 'Union', 'Monmouth', 'Ocean', 'Gloucester', 'Morris', 'Passaic', 'Mercer', 'Middlesex', 'Somerset', 'Sussex', 'Warren', 'Atlantic', 'Cape May', 'Cumberland', 'Salem', 'Hunterdon']\n"
     ]
    }
   ],
   "source": [
    "# La lista de los counties encontrados\n",
    "unique_counties = restaurantes_con_county[\"County\"].dropna().unique().tolist()\n",
    "\n",
    "print(f\"La lista de los counties es:{unique_counties}\")"
   ]
  },
  {
   "cell_type": "markdown",
   "id": "f2ad1aa9",
   "metadata": {},
   "source": [
    "8. Agregamos la información de Census y eliminamos columnas para liberar RAM al momento de sumar las reseñas de Google."
   ]
  },
  {
   "cell_type": "code",
   "execution_count": 18,
   "id": "28c98936",
   "metadata": {},
   "outputs": [],
   "source": [
    "#Abrimos el archivo de CENSUS que tiene variables socio-economicas y que tiene la variable County.\n",
    "ingresos_nj=pd.read_csv(r\"C:\\Users\\param\\OneDrive\\Escritorio\\Programacion\\Soy Henry\\Proyecto-sentimientos\\DATASET\\Census-Ingresos NJ.csv\")\n",
    "#Quitamos los problemas de tildes, etc para ambos data frames-\n",
    "ingresos_nj['County'] = ingresos_nj['County'].apply(lambda x: unidecode(x).upper())\n",
    "\n",
    "restaurantes_con_county['County'] = restaurantes_con_county['County'].apply(lambda x: unidecode(x).upper())\n",
    "\n",
    "# Step 2: Agrupamos por la media de County de las variables que nos interesa\n",
    "ingresos_grouped = ingresos_nj.groupby('County')[[\n",
    "    'MedianHH_Income',\n",
    "    'Median_Home_Value',\n",
    "    'Median_RE_Taxes'\n",
    "]].mean().reset_index()\n",
    "\n",
    "# Step 3: Juntamos ambas tablas\n",
    "google_census = pd.merge(restaurantes_con_county, ingresos_grouped, on='County', how='left')"
   ]
  },
  {
   "cell_type": "code",
   "execution_count": 19,
   "id": "12a5c72e",
   "metadata": {},
   "outputs": [
    {
     "name": "stdout",
     "output_type": "stream",
     "text": [
      "Los negocios que son para nuestro análisis son 7145\n"
     ]
    }
   ],
   "source": [
    "#Se eliminan las columnas que no se usarán para el analisis.\n",
    "#Price- tiene muchos nulos y no sirve. Nuestro analisis es por County\n",
    "google_census.drop(columns=[\"name\",\"address\",\"description\",'latitude','longitude',\"price\",\"category\",\"state\",\"relative_results\",\"url\",\"category_group_2\",\"index_right\"],inplace=True)\n",
    "print(f\"Los negocios que son para nuestro análisis son {len(google_census)}\")"
   ]
  },
  {
   "cell_type": "markdown",
   "id": "8c6ff977",
   "metadata": {},
   "source": [
    "9. Al tener los restaurantes de nuestro análisis, juntamos los reviews usando de gmap_id."
   ]
  },
  {
   "cell_type": "code",
   "execution_count": 22,
   "id": "77caa4ae",
   "metadata": {},
   "outputs": [],
   "source": [
    "# Los path de los datos\n",
    "list_sitios_path = [\n",
    "    r\"C:\\Users\\param\\OneDrive\\Escritorio\\Programacion\\Soy Henry\\Proyecto-sentimientos\\DATASET\\Google\\review-New_Jersey\\1.json\",\n",
    "    r\"C:\\Users\\param\\OneDrive\\Escritorio\\Programacion\\Soy Henry\\Proyecto-sentimientos\\DATASET\\Google\\review-New_Jersey\\2.json\",\n",
    "    r\"C:\\Users\\param\\OneDrive\\Escritorio\\Programacion\\Soy Henry\\Proyecto-sentimientos\\DATASET\\Google\\review-New_Jersey\\3.json\",\n",
    "    r\"C:\\Users\\param\\OneDrive\\Escritorio\\Programacion\\Soy Henry\\Proyecto-sentimientos\\DATASET\\Google\\review-New_Jersey\\4.json\",\n",
    "    r\"C:\\Users\\param\\OneDrive\\Escritorio\\Programacion\\Soy Henry\\Proyecto-sentimientos\\DATASET\\Google\\review-New_Jersey\\5.json\",\n",
    "    r\"C:\\Users\\param\\OneDrive\\Escritorio\\Programacion\\Soy Henry\\Proyecto-sentimientos\\DATASET\\Google\\review-New_Jersey\\6.json\",\n",
    "    r\"C:\\Users\\param\\OneDrive\\Escritorio\\Programacion\\Soy Henry\\Proyecto-sentimientos\\DATASET\\Google\\review-New_Jersey\\7.json\",\n",
    "    r\"C:\\Users\\param\\OneDrive\\Escritorio\\Programacion\\Soy Henry\\Proyecto-sentimientos\\DATASET\\Google\\review-New_Jersey\\8.json\",\n",
    "    r\"C:\\Users\\param\\OneDrive\\Escritorio\\Programacion\\Soy Henry\\Proyecto-sentimientos\\DATASET\\Google\\review-New_Jersey\\9.json\",\n",
    "    r\"C:\\Users\\param\\OneDrive\\Escritorio\\Programacion\\Soy Henry\\Proyecto-sentimientos\\DATASET\\Google\\review-New_Jersey\\10.json\",\n",
    "    r\"C:\\Users\\param\\OneDrive\\Escritorio\\Programacion\\Soy Henry\\Proyecto-sentimientos\\DATASET\\Google\\review-New_Jersey\\11.json\",\n",
    "    r\"C:\\Users\\param\\OneDrive\\Escritorio\\Programacion\\Soy Henry\\Proyecto-sentimientos\\DATASET\\Google\\review-New_Jersey\\12.json\",\n",
    "    r\"C:\\Users\\param\\OneDrive\\Escritorio\\Programacion\\Soy Henry\\Proyecto-sentimientos\\DATASET\\Google\\review-New_Jersey\\13.json\"\n",
    "]"
   ]
  },
  {
   "cell_type": "code",
   "execution_count": 23,
   "id": "43d586be",
   "metadata": {},
   "outputs": [
    {
     "name": "stdout",
     "output_type": "stream",
     "text": [
      "✅ Reviews válidos cargados: 222415\n",
      "✅ Dimensiones del resultado combinado: (333529, 18)\n"
     ]
    }
   ],
   "source": [
    "import json\n",
    "import pandas as pd\n",
    "\n",
    "all_reviews = []\n",
    "\n",
    "for path in list_sitios_path:\n",
    "    with open(path, encoding='utf-8') as f:\n",
    "        for i, line in enumerate(f):\n",
    "            try:\n",
    "                review = json.loads(line)\n",
    "                gmap_id = review.get(\"gmap_id\")\n",
    "                if gmap_id in google_census[\"gmap_id\"].values:\n",
    "                    all_reviews.append(review)\n",
    "            except json.JSONDecodeError as e:\n",
    "                print(f\"Error decoding line {i} in {path}: {e}\")\n",
    "\n",
    "# Convertir a DataFrame\n",
    "reviews_df = pd.DataFrame(all_reviews)\n",
    "\n",
    "# Combinar con google_census\n",
    "google_ETL = pd.merge(\n",
    "    reviews_df,\n",
    "    google_census,\n",
    "    how='left',\n",
    "    on='gmap_id',\n",
    "    suffixes=('', '_review')\n",
    ")\n",
    "\n",
    "print(f\"✅ Reviews válidos cargados: {len(reviews_df)}\")\n",
    "print(f\"✅ Dimensiones del resultado combinado: {google_ETL.shape}\")\n"
   ]
  },
  {
   "cell_type": "code",
   "execution_count": null,
   "id": "21cb9fed",
   "metadata": {},
   "outputs": [],
   "source": [
    "google_ETL.drop(columns=[\"pics\",\"resp\",\"time\",'name',\"geometry\"],inplace=True)"
   ]
  },
  {
   "cell_type": "markdown",
   "id": "063b1776",
   "metadata": {},
   "source": [
    "10. Llevamos este data frame a un archivo parquet mas sencillo de manejar."
   ]
  },
  {
   "cell_type": "code",
   "execution_count": null,
   "id": "19b4bb25",
   "metadata": {},
   "outputs": [
    {
     "name": "stdout",
     "output_type": "stream",
     "text": [
      "Archivo se guardo exitosamente: C:\\Users\\param\\OneDrive\\Escritorio\\Programacion\\Soy Henry\\Proyecto-sentimientos\\DATASET\\datos_google_completo.parquet\n"
     ]
    }
   ],
   "source": [
    "# Definir la ruta destino\n",
    "ruta_destino = r\"C:\\Users\\param\\OneDrive\\Escritorio\\Programacion\\Soy Henry\\Proyecto-sentimientos\\DATASET\\datos_google_completo.parquet\"\n",
    "\n",
    "# Crear carpeta\n",
    "os.makedirs(os.path.dirname(ruta_destino), exist_ok=True)\n",
    "\n",
    "#Guardar en parquet\n",
    "try:\n",
    "    google_ETL.to_parquet(ruta_destino, engine='pyarrow')\n",
    "    print(f\"Archivo se guardo exitosamente: {ruta_destino}\")\n",
    "except Exception as e:\n",
    "    print(f\"Error para guardar archivo: {e}\")"
   ]
  }
 ],
 "metadata": {
  "kernelspec": {
   "display_name": "Python 3",
   "language": "python",
   "name": "python3"
  },
  "language_info": {
   "codemirror_mode": {
    "name": "ipython",
    "version": 3
   },
   "file_extension": ".py",
   "mimetype": "text/x-python",
   "name": "python",
   "nbconvert_exporter": "python",
   "pygments_lexer": "ipython3",
   "version": "3.11.9"
  }
 },
 "nbformat": 4,
 "nbformat_minor": 5
}
